{
 "cells": [
  {
   "cell_type": "markdown",
   "id": "b605c148-5fcf-4916-b34f-e26269579761",
   "metadata": {},
   "source": [
    "# Pitching Stategy"
   ]
  },
  {
   "cell_type": "markdown",
   "id": "66f73e63-547a-4ab0-8227-91654a9e23b0",
   "metadata": {
    "tags": []
   },
   "source": [
    "### Imports"
   ]
  },
  {
   "cell_type": "code",
   "execution_count": 304,
   "id": "dc97f39b-ddcb-4f5c-8b51-d713d942852d",
   "metadata": {},
   "outputs": [],
   "source": [
    "import pybaseball as pb\n",
    "\n",
    "import pandas as pd\n",
    "import numpy as np\n",
    "\n",
    "from scipy.stats import bernoulli, binom\n",
    "import statistics as stats\n",
    "\n",
    "import matplotlib.pyplot as plt\n",
    "import seaborn as sns\n",
    "\n",
    "pb.cache.enable()"
   ]
  },
  {
   "cell_type": "markdown",
   "id": "762eccf7-a3c0-4de9-a3d2-3c0b747af194",
   "metadata": {
    "tags": []
   },
   "source": [
    "### Balanced vs Unbalanced Team Simulation\n",
    "__Background__\n",
    "- All probabilities must add up to the same\n",
    "- A balanced team will have 0.5% chance to win in all categories\n",
    "- An imbalanced team will have some cats above and some categories below\n",
    "\n",
    "__Study__\n",
    "- The probability to win in postseason games\n",
    "- The expected record"
   ]
  },
  {
   "cell_type": "code",
   "execution_count": 396,
   "id": "386913f7-bca8-4548-b8a2-9dd22e18e3a0",
   "metadata": {},
   "outputs": [],
   "source": [
    "class team_win_simulation():\n",
    "    def __init__(self, cat_win_pcts, sample_size=100000):\n",
    "        '''\n",
    "        cat_win_pcts: list of pct for each category\n",
    "        '''\n",
    "        for pct in cat_win_pcts:\n",
    "            if pct >= 1 or pct <= 0:\n",
    "                raise ValueError\n",
    "        \n",
    "        self.cat_win_pcts = cat_win_pcts\n",
    "        self.season_weeks = 19\n",
    "        self.postseason_weeks = 3\n",
    "        self.sample_size = sample_size\n",
    "        self.postseason_df = None\n",
    "        self.season_df = None\n",
    "        \n",
    "        print(f\"Category Win Pct: {self.cat_win_pcts}\")\n",
    "        print(f\"Avg Win Pct of Categories: {stats.mean(self.cat_win_pcts)}\")\n",
    "    \n",
    "    def weekly_win(self, n=None, verbose = True):\n",
    "        n = n if n else self.sample_size\n",
    "        simulation_res = []\n",
    "        for cat_pct in self.cat_win_pcts:\n",
    "            simulation_res.append(bernoulli.rvs(size=n, p=cat_pct))\n",
    "        df = pd.DataFrame(simulation_res).transpose()\n",
    "        df[\"weekly_wins\"] = df.sum(axis=1)\n",
    "        df[\"won_week\"] = df[\"weekly_wins\"] > len(self.cat_win_pcts)//2\n",
    "        if verbose:\n",
    "            print(f\"Mean of Weekly Win : {df['weekly_wins'].mean()}\")\n",
    "            print(f\"Std of Weekly Win : {df['weekly_wins'].std()}\")\n",
    "            print(f\"Probability of weekly win: {df['won_week'].mean()}\")\n",
    "        return df\n",
    "        \n",
    "    def postseason_win(self):\n",
    "        df = self.weekly_win(n=self.postseason_weeks*self.sample_size, verbose=False)\n",
    "        df['sample_idx'] = df.index % self.sample_size\n",
    "        df= df.groupby('sample_idx')['won_week'].agg(postseason_win='sum')\n",
    "        df[\"won_postseason\"] = df['postseason_win'] == self.postseason_weeks\n",
    "        print(f\"Probability of winning postseason: {df['won_postseason'].mean()}\")\n",
    "        print(f\"Std of probabillity of winning postseason : {df['won_postseason'].std()}\")\n",
    "        return df\n",
    "        \n",
    "    def season_record(self):\n",
    "        df = self.weekly_win(n=self.season_weeks*self.sample_size, verbose=False)\n",
    "        df['sample_idx'] = df.index % self.sample_size\n",
    "        df= df.groupby('sample_idx')['weekly_wins'].agg(season_record='sum')\n",
    "        print(f\"Avg season record: {df['season_record'].mean()}-{len(self.cat_win_pcts)*self.season_weeks-df['season_record'].mean()}\")\n",
    "        print(f\"Std of season_record: {df['season_record'].std()}\")\n",
    "        return df\n",
    "          "
   ]
  },
  {
   "cell_type": "code",
   "execution_count": 397,
   "id": "abae3899-aebf-4e09-af3f-a448c909a80a",
   "metadata": {},
   "outputs": [],
   "source": [
    "avg_pct = 0.6"
   ]
  },
  {
   "cell_type": "markdown",
   "id": "89b08a78-35b3-4bd2-9d03-d12ee31d425c",
   "metadata": {
    "tags": []
   },
   "source": [
    "#### Balanced Team"
   ]
  },
  {
   "cell_type": "code",
   "execution_count": 398,
   "id": "87cb2518-fe4e-482c-8653-1881de9de237",
   "metadata": {},
   "outputs": [
    {
     "name": "stdout",
     "output_type": "stream",
     "text": [
      "Category Win Pct: [0.6, 0.6, 0.6, 0.6, 0.6, 0.6, 0.6, 0.6, 0.6, 0.6, 0.6, 0.6, 0.6, 0.6]\n",
      "Avg Win Pct of Categories: 0.6\n"
     ]
    }
   ],
   "source": [
    "cat_win_pcts = [avg_pct for i in range(14)]\n",
    "\n",
    "balanced_team = team_win_simulation(cat_win_pcts)"
   ]
  },
  {
   "cell_type": "code",
   "execution_count": 399,
   "id": "8946a28a-7128-4798-b5ff-9d6fe22aa296",
   "metadata": {},
   "outputs": [
    {
     "name": "stdout",
     "output_type": "stream",
     "text": [
      "Mean of Weekly Win : 8.40272\n",
      "Std of Weekly Win : 1.8377187961450112\n",
      "Probability of weekly win: 0.69214\n",
      "Probability of winning postseason: 0.33253\n",
      "Std of probabillity of winning postseason : 0.47112208466615807\n",
      "Avg season record: 159.55103-106.44897\n",
      "Std of season_record: 8.010087237606573\n"
     ]
    }
   ],
   "source": [
    "weekly_win_df = balanced_team.weekly_win()\n",
    "postseason_df = balanced_team.postseason_win()\n",
    "season_record_df = balanced_team.season_record()"
   ]
  },
  {
   "cell_type": "markdown",
   "id": "94bc61e8-e869-401b-811c-18fc1c1231e6",
   "metadata": {
    "tags": []
   },
   "source": [
    "#### Imbalanced Team - 1 "
   ]
  },
  {
   "cell_type": "code",
   "execution_count": 400,
   "id": "971afbc7-0b75-490a-b184-ea0a2ec7cf73",
   "metadata": {},
   "outputs": [
    {
     "name": "stdout",
     "output_type": "stream",
     "text": [
      "Category Win Pct: [0.8, 0.8, 0.8, 0.8, 0.8, 0.6, 0.6, 0.6, 0.6, 0.39999999999999997, 0.39999999999999997, 0.39999999999999997, 0.39999999999999997, 0.39999999999999997]\n",
      "Avg Win Pct of Categories: 0.6\n"
     ]
    }
   ],
   "source": [
    "cat_win_pcts = [avg_pct for i in range(14)]\n",
    "n_imbalanced_cats = 5\n",
    "imbalance_factor = 0.2\n",
    "for i in range(n_imbalanced_cats):\n",
    "    cat_win_pcts[i] += imbalance_factor\n",
    "    cat_win_pcts[len(cat_win_pcts)-i-1] -= imbalance_factor\n",
    "    \n",
    "imbalanced_team_1 = team_win_simulation(cat_win_pcts)"
   ]
  },
  {
   "cell_type": "code",
   "execution_count": 401,
   "id": "f704718c-b60d-465d-b25b-7f14a4486219",
   "metadata": {},
   "outputs": [
    {
     "name": "stdout",
     "output_type": "stream",
     "text": [
      "Mean of Weekly Win : 8.40164\n",
      "Std of Weekly Win : 1.7131534255134322\n",
      "Probability of weekly win: 0.70356\n",
      "Probability of winning postseason: 0.34897\n",
      "Std of probabillity of winning postseason : 0.47664684098618565\n",
      "Avg season record: 159.57935-106.42065\n",
      "Std of season_record: 7.471629128237531\n"
     ]
    }
   ],
   "source": [
    "weekly_win_1_df = imbalanced_team_1.weekly_win()\n",
    "postseaon_1_df = imbalanced_team_1.postseason_win()\n",
    "season_record_1_df = imbalanced_team_1.season_record()"
   ]
  },
  {
   "cell_type": "markdown",
   "id": "af1e8c78-8081-4fd9-bfe6-3a1afbb28bfc",
   "metadata": {
    "tags": []
   },
   "source": [
    "#### Imbalanced Team - 2"
   ]
  },
  {
   "cell_type": "code",
   "execution_count": 402,
   "id": "c3b88487-a0b4-4ef8-931a-285d546abaca",
   "metadata": {},
   "outputs": [
    {
     "name": "stdout",
     "output_type": "stream",
     "text": [
      "Category Win Pct: [0.09999999999999998, 0.09999999999999998, 0.09999999999999998, 0.09999999999999998, 0.8, 0.8, 0.8, 0.8, 0.8, 0.8, 0.8, 0.8, 0.8, 0.8]\n",
      "Avg Win Pct of Categories: 0.6\n"
     ]
    }
   ],
   "source": [
    "cat_win_pcts = [avg_pct for i in range(14)]\n",
    "n_punt_cats = 4\n",
    "punt_amt = 0.5\n",
    "for i in range(n_punt_cats):\n",
    "    cat_win_pcts[i] -= punt_amt\n",
    "for i in range(n_punt_cats,len(cat_win_pcts)):\n",
    "    cat_win_pcts[i] += n_punt_cats*punt_amt/(len(cat_win_pcts)-n_punt_cats)\n",
    "    \n",
    "imbalanced_team_2 = team_win_simulation(cat_win_pcts)"
   ]
  },
  {
   "cell_type": "code",
   "execution_count": 403,
   "id": "32ed9ddf-a1d2-4da7-81ad-03e64df50a37",
   "metadata": {},
   "outputs": [
    {
     "name": "stdout",
     "output_type": "stream",
     "text": [
      "Mean of Weekly Win : 8.40951\n",
      "Std of Weekly Win : 1.3955826870558408\n",
      "Probability of weekly win: 0.75432\n",
      "Probability of winning postseason: 0.42274\n",
      "Std of probabillity of winning postseason : 0.49399730032999917\n",
      "Avg season record: 159.58697-106.41302999999999\n",
      "Std of season_record: 6.122671891438394\n"
     ]
    }
   ],
   "source": [
    "weekly_win_2_df = imbalanced_team_2.weekly_win()\n",
    "postseason_2_df = imbalanced_team_2.postseason_win()\n",
    "season_record_2_df = imbalanced_team_2.season_record()"
   ]
  },
  {
   "cell_type": "markdown",
   "id": "6aced164-e948-4115-98d1-661e892f4ae6",
   "metadata": {
    "tags": []
   },
   "source": [
    "#### Imbalanced Team - 3"
   ]
  },
  {
   "cell_type": "code",
   "execution_count": 404,
   "id": "54104989-25f5-4d17-9075-3861adf4367c",
   "metadata": {},
   "outputs": [
    {
     "name": "stdout",
     "output_type": "stream",
     "text": [
      "Category Win Pct: [0.09999999999999998, 0.09999999999999998, 0.6833333333333333, 0.6833333333333333, 0.6833333333333333, 0.6833333333333333, 0.6833333333333333, 0.6833333333333333, 0.6833333333333333, 0.6833333333333333, 0.6833333333333333, 0.6833333333333333, 0.6833333333333333, 0.6833333333333333]\n",
      "Avg Win Pct of Categories: 0.6\n"
     ]
    }
   ],
   "source": [
    "cat_win_pcts = [avg_pct for i in range(14)]\n",
    "n_punt_cats = 2\n",
    "punt_amt = 0.5\n",
    "for i in range(n_punt_cats):\n",
    "    cat_win_pcts[i] -= punt_amt\n",
    "for i in range(n_punt_cats,len(cat_win_pcts)):\n",
    "    cat_win_pcts[i] += n_punt_cats*punt_amt/(len(cat_win_pcts)-n_punt_cats)\n",
    "    \n",
    "imbalanced_team_3 = team_win_simulation(cat_win_pcts)"
   ]
  },
  {
   "cell_type": "code",
   "execution_count": 405,
   "id": "0e94825a-ae0e-42df-a9fe-3d13581cc599",
   "metadata": {},
   "outputs": [
    {
     "name": "stdout",
     "output_type": "stream",
     "text": [
      "Mean of Weekly Win : 8.40394\n",
      "Std of Weekly Win : 1.666559405062983\n",
      "Probability of weekly win: 0.71199\n",
      "Probability of winning postseason: 0.36067\n",
      "Std of probabillity of winning postseason : 0.480197310482441\n",
      "Avg season record: 159.64888-106.35112000000001\n",
      "Std of season_record: 7.290487381353242\n"
     ]
    }
   ],
   "source": [
    "weekly_win_3_df = imbalanced_team_3.weekly_win()\n",
    "postseason_3_df = imbalanced_team_3.postseason_win()\n",
    "season_record_3_df = imbalanced_team_3.season_record()"
   ]
  },
  {
   "cell_type": "markdown",
   "id": "5e53429e-3571-4244-97ec-fdf4d4fa1324",
   "metadata": {
    "tags": []
   },
   "source": [
    "#### Imbalanced Team - 4"
   ]
  },
  {
   "cell_type": "code",
   "execution_count": 415,
   "id": "7c45b46d-ddfb-4358-a075-64eba52e48c9",
   "metadata": {},
   "outputs": [
    {
     "name": "stdout",
     "output_type": "stream",
     "text": [
      "Category Win Pct: [0.35, 0.35, 0.35, 0.35, 0.35, 0.35, 0.35, 0.35, 0.9333333333333333, 0.9333333333333333, 0.9333333333333333, 0.9333333333333333, 0.9333333333333333, 0.9333333333333333]\n",
      "Avg Win Pct of Categories: 0.6\n"
     ]
    }
   ],
   "source": [
    "cat_win_pcts = [avg_pct for i in range(14)]\n",
    "n_punt_cats = 8\n",
    "punt_amt = 0.25\n",
    "for i in range(n_punt_cats):\n",
    "    cat_win_pcts[i] -= punt_amt\n",
    "for i in range(n_punt_cats,len(cat_win_pcts)):\n",
    "    cat_win_pcts[i] += n_punt_cats*punt_amt/(len(cat_win_pcts)-n_punt_cats)\n",
    "    \n",
    "imbalanced_team_4 = team_win_simulation(cat_win_pcts)"
   ]
  },
  {
   "cell_type": "code",
   "execution_count": 416,
   "id": "e6f4364a-cf58-44d7-b49b-f0318d5a67ba",
   "metadata": {},
   "outputs": [
    {
     "name": "stdout",
     "output_type": "stream",
     "text": [
      "Mean of Weekly Win : 8.40052\n",
      "Std of Weekly Win : 1.4794004244479624\n",
      "Probability of weekly win: 0.72863\n",
      "Probability of winning postseason: 0.38499\n",
      "Std of probabillity of winning postseason : 0.4865953839183809\n",
      "Avg season record: 159.59323-106.40677\n",
      "Std of season_record: 6.440372889140298\n"
     ]
    }
   ],
   "source": [
    "weekly_win_4_df = imbalanced_team_4.weekly_win()\n",
    "postseason_4_df = imbalanced_team_4.postseason_win()\n",
    "season_record_4_df = imbalanced_team_4.season_record()"
   ]
  },
  {
   "cell_type": "markdown",
   "id": "103cb54b-62ee-4cb6-846c-cc3160393b5f",
   "metadata": {
    "tags": []
   },
   "source": [
    "# Punt Theory"
   ]
  },
  {
   "cell_type": "code",
   "execution_count": null,
   "id": "f1066458-8a18-4a81-a9a1-e303d27471fc",
   "metadata": {},
   "outputs": [],
   "source": []
  }
 ],
 "metadata": {
  "kernelspec": {
   "display_name": "Python 3 (ipykernel)",
   "language": "python",
   "name": "python3"
  },
  "language_info": {
   "codemirror_mode": {
    "name": "ipython",
    "version": 3
   },
   "file_extension": ".py",
   "mimetype": "text/x-python",
   "name": "python",
   "nbconvert_exporter": "python",
   "pygments_lexer": "ipython3",
   "version": "3.10.4"
  }
 },
 "nbformat": 4,
 "nbformat_minor": 5
}
