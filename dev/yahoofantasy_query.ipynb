{
 "cells": [
  {
   "cell_type": "markdown",
   "id": "46734f96-3120-4f3c-99a2-5c6efbe66445",
   "metadata": {},
   "source": [
    "# Yahoo Fantasy Data Query"
   ]
  },
  {
   "cell_type": "code",
   "execution_count": 3,
   "id": "1c2ea1a7-8ca6-4a1d-b697-6ab7e8ce8392",
   "metadata": {},
   "outputs": [],
   "source": [
    "import yahoofantasy"
   ]
  },
  {
   "cell_type": "code",
   "execution_count": 5,
   "id": "ec5cf0d4-c0e4-47a5-b9eb-ea7caa63c569",
   "metadata": {},
   "outputs": [
    {
     "ename": "SyntaxError",
     "evalue": "invalid syntax (1289402412.py, line 1)",
     "output_type": "error",
     "traceback": [
      "\u001b[0;36m  Input \u001b[0;32mIn [5]\u001b[0;36m\u001b[0m\n\u001b[0;31m    yahoofantasy login\u001b[0m\n\u001b[0m                 ^\u001b[0m\n\u001b[0;31mSyntaxError\u001b[0m\u001b[0;31m:\u001b[0m invalid syntax\n"
     ]
    }
   ],
   "source": [
    "yahoofantasy login"
   ]
  },
  {
   "cell_type": "code",
   "execution_count": null,
   "id": "bca18b92-7949-4b17-9ecf-dfeb1aabae61",
   "metadata": {},
   "outputs": [],
   "source": []
  }
 ],
 "metadata": {
  "kernelspec": {
   "display_name": "Python 3 (ipykernel)",
   "language": "python",
   "name": "python3"
  },
  "language_info": {
   "codemirror_mode": {
    "name": "ipython",
    "version": 3
   },
   "file_extension": ".py",
   "mimetype": "text/x-python",
   "name": "python",
   "nbconvert_exporter": "python",
   "pygments_lexer": "ipython3",
   "version": "3.10.4"
  }
 },
 "nbformat": 4,
 "nbformat_minor": 5
}
