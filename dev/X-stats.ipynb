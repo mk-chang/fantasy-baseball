{
 "cells": [
  {
   "cell_type": "markdown",
   "id": "1c50cd21-dff0-4d97-932c-a29d7a09f377",
   "metadata": {
    "tags": []
   },
   "source": [
    "# X-Stats\n",
    "\n",
    "__Background__ \\\n",
    "Statcast predicts expected values for hitters such as xBA, xSLG. Expected values should be used to in accessing players and not their actually current stats. However, there aren't any expected stats (x-stats) for categories that actually matter in fantasy baseball or in the game of baseball such as R, RBI, etc.\n",
    "\n",
    "__Model__ \\\n",
    "Given performance data, predict fantasy category data per game. Caveat: the model assumes that statcast for a player stays the same for the rest of the season.\n",
    "\n",
    "__Dataset__\n",
    "- Only players who play over 50 games played in a season\n",
    "- Schemna:\n",
    "    - Key: player, season\n",
    "    - Target: R,RBI, etc. (fantasy categories)\n",
    "    - Training Data: statcast statistics (performance measures)"
   ]
  },
  {
   "cell_type": "code",
   "execution_count": null,
   "id": "9072d2b2-946f-4cc2-b639-3a3cdcff1c70",
   "metadata": {},
   "outputs": [],
   "source": []
  },
  {
   "cell_type": "code",
   "execution_count": null,
   "id": "14975bf1-89b9-4ddd-8052-e740ab11ab60",
   "metadata": {},
   "outputs": [],
   "source": []
  }
 ],
 "metadata": {
  "kernelspec": {
   "display_name": "Python 3 (ipykernel)",
   "language": "python",
   "name": "python3"
  },
  "language_info": {
   "codemirror_mode": {
    "name": "ipython",
    "version": 3
   },
   "file_extension": ".py",
   "mimetype": "text/x-python",
   "name": "python",
   "nbconvert_exporter": "python",
   "pygments_lexer": "ipython3",
   "version": "3.10.4"
  }
 },
 "nbformat": 4,
 "nbformat_minor": 5
}
